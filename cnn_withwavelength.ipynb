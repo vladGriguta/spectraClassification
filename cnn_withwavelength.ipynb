{
 "cells": [
  {
   "cell_type": "code",
   "execution_count": 106,
   "metadata": {},
   "outputs": [],
   "source": [
    "# imports\n",
    "import numpy as np\n",
    "import pandas as pd\n",
    "import matplotlib.pyplot as plt\n",
    "import seaborn as sns\n",
    "import time\n",
    "import pickle\n",
    "import os\n",
    "import glob"
   ]
  },
  {
   "cell_type": "code",
   "execution_count": 107,
   "metadata": {},
   "outputs": [],
   "source": [
    "# load and save functions\n",
    "def save_obj(obj, name ):\n",
    "    with open(name + '.pkl', 'wb') as f:\n",
    "        pickle.dump(obj, f, pickle.HIGHEST_PROTOCOL)\n",
    "\n",
    "def load_obj(name ):\n",
    "    with open(name , 'rb') as f:\n",
    "        return pd.DataFrame(pickle.load(f))"
   ]
  },
  {
   "cell_type": "code",
   "execution_count": 108,
   "metadata": {},
   "outputs": [],
   "source": [
    "from sklearn.metrics import confusion_matrix #, classification_report, f1_score, roc_curve, auc\n",
    "from sklearn.model_selection import train_test_split\n",
    "from sklearn.preprocessing import MinMaxScaler\n",
    "import keras\n",
    "from keras import backend as tensorflow\n",
    "from keras.models import Sequential\n",
    "from keras.layers import Dense, Dropout, Activation, Flatten\n",
    "from keras.layers import Conv2D, MaxPooling2D, Conv1D, MaxPooling1D\n",
    "from keras.utils import np_utils\n",
    "from keras.initializers import random_uniform\n",
    "from keras import layers\n",
    "from keras.optimizers import RMSprop"
   ]
  },
  {
   "cell_type": "markdown",
   "metadata": {},
   "source": [
    "df_current['information'].at[0] = class_  \n",
    "df_current['information'].at[1] = subclass_  \n",
    "df_current['information'].at[2] = z_  \n",
    "df_current['information'].at[3] = z_err  \n",
    "df_current['information'].at[4] = z_warn  \n",
    "df_current['information'].at[5] = best_obj  \n",
    "df_current['information'].at[6] = instrument  "
   ]
  },
  {
   "cell_type": "code",
   "execution_count": 109,
   "metadata": {},
   "outputs": [],
   "source": [
    "# load all spectra in internal memory \n",
    "locationSpectra = 'spectra_matched_multiproc/'\n",
    "filenames = glob.glob(locationSpectra+'*pkl')\n",
    "\n",
    "cut_off = 5000\n",
    "\n",
    "X = np.zeros((len(filenames),cut_off,2))\n",
    "#wavelength = np.zeros((len(filenames),cut_off))\n",
    "X_scaled = np.zeros((len(filenames),cut_off,2))\n",
    "y = []\n",
    "\n",
    "sc = MinMaxScaler()\n",
    "\n",
    "counter_excluded = 0\n",
    "for i in range(len(filenames)):\n",
    "    df_current = load_obj(filenames[i])\n",
    "    l = len(df_current['flux'])\n",
    "    \n",
    "    wavelength = np.power(10,df_current['loglam'][0:l])\n",
    "    flux = df_current['flux'][0:l]\n",
    "    flux_scaled = np.array(sc.fit_transform(np.array(flux).reshape(-1,1))).reshape(len(flux))\n",
    "    \n",
    "    X[i][0:l] = np.stack((wavelength,flux),axis=1)\n",
    "    \n",
    "    # Scale result in new array\n",
    "    X_scaled[i][0:l] = np.stack((wavelength,flux_scaled),axis=1)\n",
    "    \n",
    "    y.append(df_current['information'].iloc[0])\n",
    "X = X[0:(len(X)-counter_excluded)]\n",
    "wavelength = wavelength[0:(len(X)-counter_excluded)]\n",
    "y = np.array(y)"
   ]
  },
  {
   "cell_type": "code",
   "execution_count": 110,
   "metadata": {},
   "outputs": [],
   "source": [
    "# encode class values as integers\n",
    "from sklearn.preprocessing import LabelEncoder\n",
    "encoder = LabelEncoder()\n",
    "encoder.fit(y)\n",
    "encoded_Y = encoder.transform(y)\n",
    "dummy_y = np_utils.to_categorical(encoded_Y)\n",
    "\n",
    "def decode(dummy_y,encoder):\n",
    "    \"\"\"\n",
    "    Function that takes the dummy variable and its encoder and transforms it\n",
    "    back to the initial form\n",
    "    \"\"\"\n",
    "    # from dummy back to class names\n",
    "    encoded_y = np.zeros(len(dummy_y))\n",
    "    for i in range(len(dummy_y)):\n",
    "        encoded_y[i] = int(np.argmax(dummy_y[i]))\n",
    "    classes_y =  encoder.inverse_transform(encoded_y.astype(int))\n",
    "    \n",
    "    return classes_y,encoded_y"
   ]
  },
  {
   "cell_type": "code",
   "execution_count": 111,
   "metadata": {},
   "outputs": [],
   "source": [
    "X_train, X_test, y_train, y_test = train_test_split(X, dummy_y, test_size=0.1,  random_state=1)\n",
    "X_train, X_val, y_train, y_val = train_test_split(X_train, y_train, test_size=0.1, random_state=1)"
   ]
  },
  {
   "cell_type": "code",
   "execution_count": 112,
   "metadata": {},
   "outputs": [
    {
     "data": {
      "text/plain": [
       "(209, 5000, 2)"
      ]
     },
     "execution_count": 112,
     "metadata": {},
     "output_type": "execute_result"
    }
   ],
   "source": [
    "X_train.shape"
   ]
  },
  {
   "cell_type": "code",
   "execution_count": 113,
   "metadata": {},
   "outputs": [],
   "source": [
    "# Enter target names \n",
    "target_names = ['GALAXY', 'QSO', 'STAR']\n",
    "numberTargets = len(target_names) # Useful later (for the final dense layer of CNN).\n",
    "\n",
    "\n",
    "# Reshape for CNN. (Honestly, I'm not sure why this makes a difference) \n",
    "X_train = np.reshape(X_train, (np.size(X_train,0),1, np.size(X_train,1),np.size(X_train,2)))\n",
    "X_test = np.reshape(X_test, (np.size(X_test,0),1, np.size(X_test,1),np.size(X_test,2)))\n",
    "X_val = np.reshape(X_val, (np.size(X_val,0),1, np.size(X_val,1),np.size(X_val,2)))\n",
    "\n",
    "#X_test = np.reshape(X_test, (np.size(X_test,0), np.size(X_test,1), 1))\n",
    "#X_val = np.reshape(X_val, (np.size(X_val,0), np.size(X_val,1), 1))\n"
   ]
  },
  {
   "cell_type": "code",
   "execution_count": 125,
   "metadata": {
    "scrolled": false
   },
   "outputs": [
    {
     "name": "stdout",
     "output_type": "stream",
     "text": [
      "_________________________________________________________________\n",
      "Layer (type)                 Output Shape              Param #   \n",
      "=================================================================\n",
      "conv2d_9 (Conv2D)            (None, 1, 4995, 32)       416       \n",
      "_________________________________________________________________\n",
      "dropout_6 (Dropout)          (None, 1, 4995, 32)       0         \n",
      "_________________________________________________________________\n",
      "conv2d_10 (Conv2D)           (None, 1, 4992, 64)       8256      \n",
      "_________________________________________________________________\n",
      "global_max_pooling2d_4 (Glob (None, 64)                0         \n",
      "_________________________________________________________________\n",
      "dropout_7 (Dropout)          (None, 64)                0         \n",
      "_________________________________________________________________\n",
      "dense_6 (Dense)              (None, 3)                 195       \n",
      "=================================================================\n",
      "Total params: 8,867\n",
      "Trainable params: 8,867\n",
      "Non-trainable params: 0\n",
      "_________________________________________________________________\n",
      "None\n"
     ]
    }
   ],
   "source": [
    "# Choose hyperparameters\n",
    "no_epochs = 20\n",
    "batch_size = 64\n",
    "learning_rate = 0.0100\n",
    "dropout_rate = 0.20\n",
    "\n",
    "# Design the Network\n",
    "model = Sequential()\n",
    "model.add(layers.Conv2D(32, (1, 6), activation='relu',  input_shape=X_train[0].shape)) # Input shape is VERY fiddly. May need to try different things. \n",
    "model.add(Dropout(dropout_rate))\n",
    "model.add(layers.Conv2D(64, (1, 4), activation='relu'))\n",
    "model.add(layers.GlobalMaxPooling2D())\n",
    "model.add(Dropout(dropout_rate))\n",
    "model.add(Dense(numberTargets, activation='softmax'))\n",
    "print(model.summary())"
   ]
  },
  {
   "cell_type": "code",
   "execution_count": 126,
   "metadata": {
    "scrolled": true
   },
   "outputs": [
    {
     "name": "stdout",
     "output_type": "stream",
     "text": [
      "Train on 209 samples, validate on 24 samples\n",
      "Epoch 1/20\n",
      "209/209 [==============================] - 3s 15ms/step - loss: 13.2326 - acc: 0.1770 - val_loss: 11.4170 - val_acc: 0.2917\n",
      "Epoch 2/20\n",
      "209/209 [==============================] - 3s 13ms/step - loss: 13.1875 - acc: 0.1818 - val_loss: 11.4170 - val_acc: 0.2917\n",
      "Epoch 3/20\n",
      "209/209 [==============================] - 3s 13ms/step - loss: 13.1875 - acc: 0.1818 - val_loss: 11.4170 - val_acc: 0.2917\n",
      "Epoch 4/20\n",
      "209/209 [==============================] - 3s 13ms/step - loss: 13.1875 - acc: 0.1818 - val_loss: 11.4170 - val_acc: 0.2917\n",
      "Epoch 5/20\n",
      "209/209 [==============================] - 3s 13ms/step - loss: 13.1875 - acc: 0.1818 - val_loss: 11.4170 - val_acc: 0.2917\n",
      "Epoch 6/20\n",
      "209/209 [==============================] - 3s 13ms/step - loss: 13.1875 - acc: 0.1818 - val_loss: 11.4170 - val_acc: 0.2917\n",
      "Epoch 7/20\n",
      "209/209 [==============================] - 3s 13ms/step - loss: 13.1875 - acc: 0.1818 - val_loss: 11.4170 - val_acc: 0.2917\n",
      "Epoch 8/20\n",
      "209/209 [==============================] - 3s 13ms/step - loss: 13.1875 - acc: 0.1818 - val_loss: 11.4170 - val_acc: 0.2917\n",
      "Epoch 9/20\n",
      "209/209 [==============================] - 3s 14ms/step - loss: 13.1875 - acc: 0.1818 - val_loss: 11.4170 - val_acc: 0.2917\n",
      "Epoch 10/20\n",
      "209/209 [==============================] - 3s 14ms/step - loss: 13.1875 - acc: 0.1818 - val_loss: 11.4170 - val_acc: 0.2917\n",
      "Epoch 11/20\n",
      "209/209 [==============================] - 3s 14ms/step - loss: 13.1875 - acc: 0.1818 - val_loss: 11.4170 - val_acc: 0.2917\n",
      "Epoch 12/20\n",
      "209/209 [==============================] - 3s 13ms/step - loss: 13.1875 - acc: 0.1818 - val_loss: 11.4170 - val_acc: 0.2917\n",
      "Epoch 13/20\n",
      "209/209 [==============================] - 3s 13ms/step - loss: 13.1875 - acc: 0.1818 - val_loss: 11.4170 - val_acc: 0.2917\n",
      "Epoch 14/20\n",
      "209/209 [==============================] - 3s 13ms/step - loss: 13.1875 - acc: 0.1818 - val_loss: 11.4170 - val_acc: 0.2917\n",
      "Epoch 15/20\n",
      "209/209 [==============================] - 3s 13ms/step - loss: 13.1875 - acc: 0.1818 - val_loss: 11.4170 - val_acc: 0.2917\n",
      "Epoch 16/20\n",
      "209/209 [==============================] - 3s 13ms/step - loss: 13.1875 - acc: 0.1818 - val_loss: 11.4170 - val_acc: 0.2917\n",
      "Epoch 17/20\n",
      "209/209 [==============================] - 3s 13ms/step - loss: 13.1875 - acc: 0.1818 - val_loss: 11.4170 - val_acc: 0.2917\n",
      "Epoch 18/20\n",
      "209/209 [==============================] - 3s 13ms/step - loss: 13.1875 - acc: 0.1818 - val_loss: 11.4170 - val_acc: 0.2917\n",
      "Epoch 19/20\n",
      "209/209 [==============================] - 3s 13ms/step - loss: 13.1875 - acc: 0.1818 - val_loss: 11.4170 - val_acc: 0.2917\n",
      "Epoch 20/20\n",
      "209/209 [==============================] - 3s 13ms/step - loss: 13.1875 - acc: 0.1818 - val_loss: 11.4170 - val_acc: 0.2917\n"
     ]
    }
   ],
   "source": [
    "model.compile(optimizer=RMSprop(lr=learning_rate),\n",
    "              loss='categorical_crossentropy', # May need to change to binary_crossentropy or categorical_crossentropy\n",
    "              metrics=['acc'])\n",
    "history = model.fit(X_train, y_train, epochs=no_epochs, batch_size=batch_size, validation_data=(X_val, y_val))\n",
    "predictions = model.predict_proba(X_test)\n",
    "predicted_labels = predictions.argmax(axis=1) # Converts probabilities (e.g. 0.035 0.001 0.704 0.260) to labels (e.g. 0 0 1 0)"
   ]
  },
  {
   "cell_type": "code",
   "execution_count": 127,
   "metadata": {},
   "outputs": [
    {
     "data": {
      "image/png": "[encoded data removed]",
      "text/plain": [
       "<Figure size 432x288 with 1 Axes>"
      ]
     },
     "metadata": {
      "needs_background": "light"
     },
     "output_type": "display_data"
    }
   ],
   "source": [
    "# Evaluation \n",
    "\n",
    "# Now our model is built and trained and tested; we look at results\n",
    "# First, the loss and accuracy on training+validation data.\n",
    "plt.plot(history.history['acc'])\n",
    "plt.plot(history.history['val_acc'])\n",
    "plt.xlabel('Epoch')\n",
    "plt.ylabel('Accuracy')\n",
    "plt.title('Model Accuracy (Unsmoothed)')\n",
    "plt.legend(['train', 'valid'], loc='upper left')\n",
    "plt.show()"
   ]
  },
  {
   "cell_type": "code",
   "execution_count": 117,
   "metadata": {},
   "outputs": [
    {
     "data": {
      "image/png": "[encoded data removed]",
      "text/plain": [
       "<Figure size 432x288 with 1 Axes>"
      ]
     },
     "metadata": {
      "needs_background": "light"
     },
     "output_type": "display_data"
    }
   ],
   "source": [
    "plt.plot(history.history['loss'])\n",
    "plt.plot(history.history['val_loss'])\n",
    "plt.xlabel('Epoch')\n",
    "plt.ylabel('Loss')\n",
    "plt.title('Model Loss')\n",
    "plt.legend(['train', 'valid'], loc='upper right')\n",
    "plt.show()"
   ]
  },
  {
   "cell_type": "code",
   "execution_count": 118,
   "metadata": {},
   "outputs": [],
   "source": [
    "# Defining a function to plot smoother plots of validation and accuracy - this often helps to identify a trend better\n",
    "def smooth_curve(points, factor=0.8):\n",
    "  smoothed_points = []\n",
    "  for point in points:\n",
    "    if smoothed_points:\n",
    "      previous = smoothed_points[-1]\n",
    "      smoothed_points.append(previous * factor + point * (1 - factor))\n",
    "    else:\n",
    "      smoothed_points.append(point)\n",
    "  return smoothed_points"
   ]
  },
  {
   "cell_type": "code",
   "execution_count": 119,
   "metadata": {},
   "outputs": [
    {
     "data": {
      "image/png": "[encoded data removed]",
      "text/plain": [
       "<Figure size 432x288 with 1 Axes>"
      ]
     },
     "metadata": {
      "needs_background": "light"
     },
     "output_type": "display_data"
    }
   ],
   "source": [
    "plt.figure()\n",
    "plt.plot(smooth_curve(history.history['acc']), 'bo', label='Smoothed training acc', alpha=0.5)\n",
    "plt.plot(smooth_curve(history.history['val_acc']), 'b', label='Smoothed validation acc')\n",
    "plt.title('Training and validation Accuracy (smoothed')\n",
    "plt.legend()\n",
    "plt.show()"
   ]
  },
  {
   "cell_type": "code",
   "execution_count": 120,
   "metadata": {},
   "outputs": [
    {
     "data": {
      "image/png": "[encoded data removed]",
      "text/plain": [
       "<Figure size 432x288 with 1 Axes>"
      ]
     },
     "metadata": {
      "needs_background": "light"
     },
     "output_type": "display_data"
    }
   ],
   "source": [
    "plt.figure()\n",
    "plt.plot(smooth_curve(history.history['loss']), 'bo', label='Smoothed training loss', alpha=0.5)\n",
    "plt.plot(smooth_curve(history.history['val_loss']), 'b', label='Smoothed validation loss')\n",
    "plt.title('Training and validation loss (Smoothed)')\n",
    "plt.legend()\n",
    "plt.show()"
   ]
  },
  {
   "cell_type": "code",
   "execution_count": 121,
   "metadata": {},
   "outputs": [
    {
     "name": "stdout",
     "output_type": "stream",
     "text": [
      "Test loss: 4.959414005279541\n",
      "Test accuracy: 0.692307710647583\n",
      "Note that in multi-class and imbalanced classification problems, test accuracy is not an ideal metric\n"
     ]
    }
   ],
   "source": [
    "# Now let's see the results on Test data; rather than just training and validation sets\n",
    "score = model.evaluate(X_test, y_test, verbose=0)\n",
    "print('Test loss:', score[0])\n",
    "print('Test accuracy:', score[1])\n",
    "print('Note that in multi-class and imbalanced classification problems, test accuracy is not an ideal metric')"
   ]
  },
  {
   "cell_type": "code",
   "execution_count": 122,
   "metadata": {},
   "outputs": [
    {
     "name": "stdout",
     "output_type": "stream",
     "text": [
      "Confusion matrix:\n",
      "[[18  0  0]\n",
      " [ 2  0  0]\n",
      " [ 6  0  0]]\n"
     ]
    }
   ],
   "source": [
    "confusion = confusion_matrix(y_test.argmax(axis=1), predicted_labels)\n",
    "print(\"Confusion matrix:\\n{}\".format(confusion))"
   ]
  },
  {
   "cell_type": "code",
   "execution_count": 74,
   "metadata": {},
   "outputs": [],
   "source": [
    "#This longer code gets a prettier confusion matrix.\n",
    "def cm_analysis(y_true, y_pred, filename, labels, ymap=None, figsize=(10,10)):\n",
    "    \"\"\"\n",
    "    Generate matrix plot of confusion matrix with pretty annotations.\n",
    "    The plot image is saved to disk.\n",
    "    args: \n",
    "      y_true:    true label of the data, with shape (nsamples,)\n",
    "      y_pred:    prediction of the data, with shape (nsamples,)\n",
    "      filename:  filename of figure file to save\n",
    "      labels:    string array, name the order of class labels in the confusion matrix.\n",
    "                 use `clf.classes_` if using scikit-learn models.\n",
    "                 with shape (nclass,).\n",
    "      ymap:      dict: any -> string, length == nclass.\n",
    "                 if not None, map the labels & ys to more understandable strings.\n",
    "                 Caution: original y_true, y_pred and labels must align.\n",
    "      figsize:   the size of the figure plotted.\n",
    "    \"\"\"\n",
    "    if ymap != None:\n",
    "        y_pred = [ymap[yi] for yi in y_pred]\n",
    "        y_true = [ymap[yi] for yi in y_true]\n",
    "        labels = [ymap[yi] for yi in labels]\n",
    "    cm = confusion_matrix(y_true, y_pred, labels=labels)\n",
    "    cm_sum = np.sum(cm, axis=1, keepdims=True)\n",
    "    cm_perc = cm / cm_sum * 100\n",
    "    annot = np.empty_like(cm).astype(str)\n",
    "    nrows, ncols = cm.shape\n",
    "    for i in range(nrows):\n",
    "        for j in range(ncols):\n",
    "            c = cm[i, j]\n",
    "            p = cm_perc[i, j]\n",
    "            if i == j:\n",
    "                s = cm_sum[i]\n",
    "                annot[i, j] = '%.1f%%\\n%d/%d' % (p, c, s)\n",
    "            elif c == 0:\n",
    "                annot[i, j] = ''\n",
    "            else:\n",
    "                annot[i, j] = '%.1f%%\\n%d' % (p, c)\n",
    "    cm = pd.DataFrame(cm, index=labels, columns=labels)\n",
    "    cm.index.name = 'Actual'\n",
    "    cm.columns.name = 'Predicted'\n",
    "    fig, ax = plt.subplots(figsize=figsize)\n",
    "    sns.heatmap(cm_perc, annot=annot, fmt='', ax=ax) # Changing cm_perc to cm give a heatmap in terms of the percentages instead of absolute number \n",
    "    plt.savefig(filename)"
   ]
  },
  {
   "cell_type": "code",
   "execution_count": 124,
   "metadata": {},
   "outputs": [
    {
     "data": {
      "image/png": "[encoded data removed]",
      "text/plain": [
       "<Figure size 720x720 with 2 Axes>"
      ]
     },
     "metadata": {
      "needs_background": "light"
     },
     "output_type": "display_data"
    }
   ],
   "source": [
    "y_true = y_test.argmax(axis=1)\n",
    "cm_analysis(y_true, predicted_labels, filename='CNN_Example.png', labels=[0,1,2])"
   ]
  },
  {
   "cell_type": "code",
   "execution_count": 78,
   "metadata": {},
   "outputs": [
    {
     "data": {
      "text/plain": [
       "array([2, 0, 0, 1, 2, 0, 0, 0, 0, 2, 2, 0, 0, 0, 0, 0, 0, 0, 2, 1, 0, 2,\n",
       "       0, 0, 0, 0])"
      ]
     },
     "execution_count": 78,
     "metadata": {},
     "output_type": "execute_result"
    }
   ],
   "source": [
    "y_true"
   ]
  },
  {
   "cell_type": "code",
   "execution_count": null,
   "metadata": {},
   "outputs": [],
   "source": []
  }
 ],
 "metadata": {
  "kernelspec": {
   "display_name": "Python 3",
   "language": "python",
   "name": "python3"
  },
  "language_info": {
   "codemirror_mode": {
    "name": "ipython",
    "version": 3
   },
   "file_extension": ".py",
   "mimetype": "text/x-python",
   "name": "python",
   "nbconvert_exporter": "python",
   "pygments_lexer": "ipython3",
   "version": "3.7.1"
  }
 },
 "nbformat": 4,
 "nbformat_minor": 2
}
