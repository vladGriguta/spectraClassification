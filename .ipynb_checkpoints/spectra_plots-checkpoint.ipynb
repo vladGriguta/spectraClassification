{
 "cells": [
  {
   "cell_type": "code",
   "execution_count": 1,
   "metadata": {},
   "outputs": [],
   "source": [
    "# imports\n",
    "import numpy as np\n",
    "import pandas as pd\n",
    "import matplotlib.pyplot as plt\n",
    "import seaborn as sns\n",
    "import time\n",
    "import pickle\n",
    "import os\n",
    "import glob"
   ]
  },
  {
   "cell_type": "code",
   "execution_count": 2,
   "metadata": {},
   "outputs": [],
   "source": [
    "# load and save functions\n",
    "def save_obj(obj, name ):\n",
    "    with open(name + '.pkl', 'wb') as f:\n",
    "        pickle.dump(obj, f, pickle.HIGHEST_PROTOCOL)\n",
    "\n",
    "def load_obj(name ):\n",
    "    with open(name , 'rb') as f:\n",
    "        return pd.DataFrame(pickle.load(f))"
   ]
  },
  {
   "cell_type": "code",
   "execution_count": 4,
   "metadata": {},
   "outputs": [],
   "source": [
    "# load all spectra in internal memory \n",
    "locationSpectra = 'spectra_matched/'\n",
    "filenames = glob.glob(locationSpectra+'*pkl')\n",
    "\n",
    "cut_off = 5000\n",
    "\n",
    "X = np.zeros((len(filenames),cut_off))\n",
    "y = []\n",
    "\n",
    "counter_excluded = 0\n",
    "for i in range(len(filenames)):\n",
    "    df_current = load_obj(filenames[i])\n",
    "    l = len(df_current['model'])\n",
    "    X[i][0:l] = df_current['model'][0:l]\n",
    "    y.append(df_current['class'].iloc[0])\n",
    "X = X[0:(len(X)-counter_excluded)]\n",
    "y = np.array(y)"
   ]
  },
  {
   "cell_type": "code",
   "execution_count": 7,
   "metadata": {},
   "outputs": [],
   "source": [
    "# plot galaxies\n",
    "idx_galaxy = (y == 'GALAXY')\n",
    "X_galaxy = X[idx_galaxy]\n",
    "\n",
    "fig = plt.figure()\n",
    "plt.hold(True)\n",
    "for elem in X_galaxy:\n",
    "    plt.plot(elem)\n",
    "    "
   ]
  },
  {
   "cell_type": "code",
   "execution_count": null,
   "metadata": {},
   "outputs": [],
   "source": []
  },
  {
   "cell_type": "code",
   "execution_count": null,
   "metadata": {},
   "outputs": [],
   "source": []
  }
 ],
 "metadata": {
  "kernelspec": {
   "display_name": "Python 3",
   "language": "python",
   "name": "python3"
  },
  "language_info": {
   "codemirror_mode": {
    "name": "ipython",
    "version": 3
   },
   "file_extension": ".py",
   "mimetype": "text/x-python",
   "name": "python",
   "nbconvert_exporter": "python",
   "pygments_lexer": "ipython3",
   "version": "3.7.1"
  }
 },
 "nbformat": 4,
 "nbformat_minor": 2
}
